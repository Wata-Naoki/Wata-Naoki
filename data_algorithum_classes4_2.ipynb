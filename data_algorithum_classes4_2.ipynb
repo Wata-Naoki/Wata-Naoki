{
  "nbformat": 4,
  "nbformat_minor": 0,
  "metadata": {
    "colab": {
      "provenance": [],
      "authorship_tag": "ABX9TyMjFvNLlGG8H2YpGhxMGr0X",
      "include_colab_link": true
    },
    "kernelspec": {
      "name": "python3",
      "display_name": "Python 3"
    },
    "language_info": {
      "name": "python"
    }
  },
  "cells": [
    {
      "cell_type": "markdown",
      "metadata": {
        "id": "view-in-github",
        "colab_type": "text"
      },
      "source": [
        "<a href=\"https://colab.research.google.com/github/Wata-Naoki/Wata-Naoki/blob/main/data_algorithum_classes4_2.ipynb\" target=\"_parent\"><img src=\"https://colab.research.google.com/assets/colab-badge.svg\" alt=\"Open In Colab\"/></a>"
      ]
    },
    {
      "cell_type": "code",
      "execution_count": null,
      "metadata": {
        "id": "NwDLNW2gosJY"
      },
      "outputs": [],
      "source": [
        "import math\t\t\t# 数学関数を使えるようにする\n",
        "n=10\n",
        "print(n**1.1)\t\t\t# 累乗 nの1.1乗\n",
        "print(math.factorial(n))\t# 階乗 n!\n",
        "print(math.log2(n))\t\t# 2を底にしたnの対数\n",
        "print(math.log10(n))\t# 10を底にしたnの対数"
      ]
    },
    {
      "cell_type": "code",
      "source": [
        "# 1から上限値までのフィボナッチ数列を求める\n",
        "def get_tests(upper_limit):\n",
        "    tests = [1, 2]\n",
        "    # 新しい値が上限値よりも小さければテストに加える\n",
        "    while(tests[-2] + tests[-1] < upper_limit):\n",
        "        tests.append(tests[-2] + tests[-1])\n",
        "    return tests"
      ],
      "metadata": {
        "id": "8p8xCBXIoxhu"
      },
      "execution_count": null,
      "outputs": []
    },
    {
      "cell_type": "code",
      "source": [
        "# ケース１のデータ生成およびグラフ生成\n",
        "import plotly.graph_objects as go\n",
        "\n",
        "n= 10000\n",
        "value =get_tests(n)\n",
        "print(value)\n",
        "testresult_1 = [100*c for c in value]\n",
        "testresultt_2 = [d**2 for d in value]\n",
        "print(testresult_1)\n",
        "print(testresultt_2)\n",
        "\n",
        "list = [a for a in range(n+1)]\n",
        "result_1 = [100*a for a in list]\n",
        "result_2 = [a**2 for a in list]\n",
        "\n",
        "print(list)\n",
        "print(result_1)\n",
        "print(result_2)\n",
        "annotations = []\n",
        "\n",
        "fig = go.Figure()                                 \n",
        "fig.update_layout(annotations=annotations)\n",
        "fig.update_layout(legend=dict(xanchor='right',yanchor='middle',x=1.02,y=-0.2,orientation='h',))\n",
        "\n",
        "fig.update_xaxes(type=\"log\", range=[0,4]) \n",
        "\n",
        "fig.update_yaxes(type=\"log\", range=[0,7]) \n",
        "fig.add_trace(go.Scatter(x=list, y=result_1, mode='lines+markers', name='100n')) \n",
        "fig.add_trace(go.Scatter(x=list, y=result_2, mode='lines+markers', name='n^2')) "
      ],
      "metadata": {
        "id": "hCSAXbryozZx"
      },
      "execution_count": null,
      "outputs": []
    },
    {
      "cell_type": "code",
      "source": [
        "# ケース２のデータ生成およびグラフ生成\n",
        "import plotly.graph_objects as go\n",
        "\n",
        "n= 1000\n",
        "values =get_tests(n)\n",
        "print(values)\n",
        "testresult_1 = [1.1**c for c in values]\n",
        "testresult_2 = [d**10 for d in values]\n",
        "print(testresult_1)\n",
        "print(testresult_2)\n",
        "\n",
        "list = [a for a in range(n+1)]\n",
        "result_1 = [1.1**a for a in list]\n",
        "result_2 = [b**10 for b in list]\n",
        "\n",
        "print(list)\n",
        "print(result_1)\n",
        "print(result_2)\n",
        "annotations = []\n",
        "\n",
        "fig = go.Figure()                                \n",
        "fig.update_layout(annotations=annotations)\n",
        "fig.update_layout(legend=dict(xanchor='right',yanchor='middle',x=1.02,y=-0.2,orientation='h',))\n",
        "fig.update_xaxes\n",
        "fig.update_xaxes(type=\"log\", range=[0,4]) \n",
        "fig.update_yaxes(type=\"log\", range=[0,50]) \n",
        "fig.add_trace(go.Scatter(x=list, y=result_1, mode='lines+markers', name='1.1^n')) \n",
        "fig.add_trace(go.Scatter(x=list, y=result_2, mode='lines+markers', name='n^10')) "
      ],
      "metadata": {
        "id": "jnuWN4sso1Tl"
      },
      "execution_count": null,
      "outputs": []
    },
    {
      "cell_type": "code",
      "source": [
        "# ケース３のデータ生成およびグラフ生成\n",
        "import plotly.graph_objects as go\n",
        "n= 10000\n",
        "values =get_tests(n)\n",
        "print(math.log2(n))\n",
        "\n",
        "print(values)\n",
        "testresult_1 = [5*math.log(c,5) for c in values]\n",
        "testresult_2 = [10*math.log10(d) for d in values]\n",
        "print(testresult_1)\n",
        "print(testresult_2)\n",
        "\n",
        "list = [a for a in range(1,n+1)]\n",
        "result_1 = [5*math.log(a,5) for a in list]\n",
        "result_2 = [10*math.log10(b) for b in list]\n",
        "\n",
        "print(list)\n",
        "print(result_1)\n",
        "print(result_2)\n",
        "annotations = []\n",
        "\n",
        "fig = go.Figure()                                \n",
        "fig.update_layout(annotations=annotations)\n",
        "fig.update_layout(legend=dict(xanchor='right',yanchor='middle',x=1.02,y=-0.2,orientation='h',))\n",
        "fig.update_xaxes\n",
        "fig.update_xaxes(type=\"log\", range=[0,4]) \n",
        "fig.update_yaxes(type=\"log\", range=[0,2]) \n",
        "fig.add_trace(go.Scatter(x=list, y=result_1, mode='lines+markers', name='1.1^n')) \n",
        "fig.add_trace(go.Scatter(x=list, y=result_2, mode='lines+markers', name='n^10')) \n"
      ],
      "metadata": {
        "id": "zYlLKG_Po4EZ"
      },
      "execution_count": null,
      "outputs": []
    },
    {
      "cell_type": "code",
      "source": [
        "# ケース４のデータ生成およびグラフ生成\n",
        "\n",
        "import plotly.graph_objects as go\n",
        "n= 1000\n",
        "print(n**1.1)           \n",
        "print(math.factorial(n))    \n",
        "values =get_tests(n)\n",
        "print(values)\n",
        "testresult_1 = [20**c for c in values]\n",
        "testresult_2 = [math.factorial(d) for d in values]\n",
        "print(testresult_1)\n",
        "print(testresult_2)\n",
        "\n",
        "list = [a for a in range(1,n+1)]\n",
        "result_1 = [20**a for a in list]\n",
        "result_2 = [math.factorial(b) for b in list]\n",
        "\n",
        "print(list)\n",
        "print(result_1)\n",
        "print(result_2)\n",
        "annotations = []\n",
        "\n",
        "fig = go.Figure()                                 \n",
        "fig.update_layout(annotations=annotations)\n",
        "fig.update_layout(legend=dict(xanchor='right',yanchor='middle',x=1.02,y=-0.2,orientation='h',))\n",
        "fig.update_xaxes\n",
        "fig.update_xaxes(type=\"log\", range=[0,3]) \n",
        "fig.update_yaxes(type=\"log\", range=[0,300]) \n",
        "fig.add_trace(go.Scatter(x=list, y=result_1, mode='lines+markers', name='1.1^n'))\n",
        "fig.add_trace(go.Scatter(x=list, y=result_2, mode='lines+markers', name='n^10')) "
      ],
      "metadata": {
        "id": "fhstgSvbo6-Z"
      },
      "execution_count": null,
      "outputs": []
    }
  ]
}