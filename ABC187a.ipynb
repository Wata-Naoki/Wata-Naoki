{
  "nbformat": 4,
  "nbformat_minor": 0,
  "metadata": {
    "colab": {
      "provenance": [],
      "authorship_tag": "ABX9TyOiiZbEJHQLgZnPlSA6GhAJ",
      "include_colab_link": true
    },
    "kernelspec": {
      "name": "python3",
      "display_name": "Python 3"
    },
    "language_info": {
      "name": "python"
    }
  },
  "cells": [
    {
      "cell_type": "markdown",
      "metadata": {
        "id": "view-in-github",
        "colab_type": "text"
      },
      "source": [
        "<a href=\"https://colab.research.google.com/github/Wata-Naoki/Wata-Naoki/blob/main/ABC187a.ipynb\" target=\"_parent\"><img src=\"https://colab.research.google.com/assets/colab-badge.svg\" alt=\"Open In Colab\"/></a>"
      ]
    },
    {
      "cell_type": "code",
      "execution_count": 4,
      "metadata": {
        "colab": {
          "base_uri": "https://localhost:8080/"
        },
        "id": "3gKFiM5kHbAc",
        "outputId": "d5e8473f-51bb-4f79-9861-8c0a5b1e02ab"
      },
      "outputs": [
        {
          "output_type": "stream",
          "name": "stdout",
          "text": [
            "123 234\n",
            "9\n"
          ]
        }
      ],
      "source": [
        "a, b=map(str, input().split())\n",
        "a_list=[int(n) for n in a]\n",
        "b_list=[int(n) for n in b]\n",
        "\n",
        "print(max(sum(a_list), sum(b_list)))"
      ]
    },
    {
      "cell_type": "code",
      "source": [],
      "metadata": {
        "id": "2102uG4EIwZv"
      },
      "execution_count": null,
      "outputs": []
    }
  ]
}