{
  "nbformat": 4,
  "nbformat_minor": 0,
  "metadata": {
    "colab": {
      "provenance": [],
      "authorship_tag": "ABX9TyPY1V55IFPRX0MNYRoNJ3+q",
      "include_colab_link": true
    },
    "kernelspec": {
      "name": "python3",
      "display_name": "Python 3"
    },
    "language_info": {
      "name": "python"
    }
  },
  "cells": [
    {
      "cell_type": "markdown",
      "metadata": {
        "id": "view-in-github",
        "colab_type": "text"
      },
      "source": [
        "<a href=\"https://colab.research.google.com/github/Wata-Naoki/Wata-Naoki/blob/main/ABC142C.ipynb\" target=\"_parent\"><img src=\"https://colab.research.google.com/assets/colab-badge.svg\" alt=\"Open In Colab\"/></a>"
      ]
    },
    {
      "cell_type": "code",
      "source": [
        "n=int(input())\n",
        "a_l=[int(a) for a in input().split()]\n",
        "\n",
        "convert_dict={}\n",
        "for ind, val in enumerate(a_l):\n",
        "  num=ind+1\n",
        "  convert_dict[num]=val\n",
        " \n",
        "ans_list=sorted(convert_dict.items(), key=lambda x:x[1])\n",
        "ans_val=''\n",
        "\n",
        "for i,v in enumerate(ans_list):\n",
        "  if i ==0:\n",
        "    ans_val+=str(v[0])\n",
        "  else:\n",
        "    ans_val+=' ' + str(v[0])\n",
        "\n",
        "print(ans_val)"
      ],
      "metadata": {
        "colab": {
          "base_uri": "https://localhost:8080/"
        },
        "id": "MT6a0qKycEDA",
        "outputId": "a6ebc2f4-bb4b-4574-d2eb-a4c80b5d5900"
      },
      "execution_count": 14,
      "outputs": [
        {
          "output_type": "stream",
          "name": "stdout",
          "text": [
            "5\n",
            "1 2 3 4 5\n",
            "1 2 3 4 5\n"
          ]
        }
      ]
    },
    {
      "cell_type": "code",
      "execution_count": 13,
      "metadata": {
        "colab": {
          "base_uri": "https://localhost:8080/"
        },
        "id": "fWVe7zWmNAJg",
        "outputId": "94c0134f-a005-4616-add9-8cf8e3830885"
      },
      "outputs": [
        {
          "output_type": "stream",
          "name": "stdout",
          "text": [
            "3\n",
            "2 3 1\n",
            "3 [2, 3, 1]\n",
            "{1: 2, 2: 3, 3: 1}\n",
            "[(3, 1), (1, 2), (2, 3)]\n",
            "0 (3, 1)\n",
            "1 (1, 2)\n",
            "2 (2, 3)\n",
            "3 1 2\n"
          ]
        }
      ],
      "source": [
        "n=int(input())\n",
        "a_l=[int(a) for a in input().split()]\n",
        "print(n, a_l)\n",
        "\n",
        "convert_dict={}\n",
        "for ind, val in enumerate(a_l):\n",
        "  num=ind+1\n",
        "  convert_dict[num]=val\n",
        "print(convert_dict)\n",
        " \n",
        "ans_list=sorted(convert_dict.items(), key=lambda x:x[1])\n",
        "print(ans_list)\n",
        "ans_val=''\n",
        "\n",
        "for i,v in enumerate(ans_list):\n",
        "  if i ==0:\n",
        "    ans_val+=str(v[0])\n",
        "  else:\n",
        "    ans_val+=' ' + str(v[0])\n",
        "\n",
        "print(ans_val)"
      ]
    },
    {
      "cell_type": "code",
      "source": [
        "scores = [\n",
        "    {'kokugo': 33, 'sansuu': 85},\n",
        "    {'kokugo': 77, 'sansuu': 23},\n",
        "    {'kokugo': 55, 'sansuu': 100}\n",
        "]\n",
        "\n",
        "scores_sorted = sorted(scores, key=lambda x:x['kokugo'])\n",
        "\n",
        "print(scores_sorted)"
      ],
      "metadata": {
        "colab": {
          "base_uri": "https://localhost:8080/"
        },
        "id": "IV3j6F2zXxGw",
        "outputId": "428580c8-f13e-4648-d3ca-6660f4d5e46e"
      },
      "execution_count": 7,
      "outputs": [
        {
          "output_type": "stream",
          "name": "stdout",
          "text": [
            "[{'kokugo': 33, 'sansuu': 85}, {'kokugo': 55, 'sansuu': 100}, {'kokugo': 77, 'sansuu': 23}]\n"
          ]
        }
      ]
    }
  ]
}